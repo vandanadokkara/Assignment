{
 "cells": [
  {
   "cell_type": "code",
   "execution_count": 3,
   "id": "b623780a",
   "metadata": {},
   "outputs": [
    {
     "name": "stdout",
     "output_type": "stream",
     "text": [
      "1.22.4\n",
      "openblas64__info:\n",
      "    library_dirs = ['D:\\\\a\\\\1\\\\s\\\\numpy\\\\build\\\\openblas64__info']\n",
      "    libraries = ['openblas64__info']\n",
      "    language = f77\n",
      "    define_macros = [('HAVE_CBLAS', None), ('BLAS_SYMBOL_SUFFIX', '64_'), ('HAVE_BLAS_ILP64', None)]\n",
      "blas_ilp64_opt_info:\n",
      "    library_dirs = ['D:\\\\a\\\\1\\\\s\\\\numpy\\\\build\\\\openblas64__info']\n",
      "    libraries = ['openblas64__info']\n",
      "    language = f77\n",
      "    define_macros = [('HAVE_CBLAS', None), ('BLAS_SYMBOL_SUFFIX', '64_'), ('HAVE_BLAS_ILP64', None)]\n",
      "openblas64__lapack_info:\n",
      "    library_dirs = ['D:\\\\a\\\\1\\\\s\\\\numpy\\\\build\\\\openblas64__lapack_info']\n",
      "    libraries = ['openblas64__lapack_info']\n",
      "    language = f77\n",
      "    define_macros = [('HAVE_CBLAS', None), ('BLAS_SYMBOL_SUFFIX', '64_'), ('HAVE_BLAS_ILP64', None), ('HAVE_LAPACKE', None)]\n",
      "lapack_ilp64_opt_info:\n",
      "    library_dirs = ['D:\\\\a\\\\1\\\\s\\\\numpy\\\\build\\\\openblas64__lapack_info']\n",
      "    libraries = ['openblas64__lapack_info']\n",
      "    language = f77\n",
      "    define_macros = [('HAVE_CBLAS', None), ('BLAS_SYMBOL_SUFFIX', '64_'), ('HAVE_BLAS_ILP64', None), ('HAVE_LAPACKE', None)]\n",
      "Supported SIMD extensions in this NumPy install:\n",
      "    baseline = SSE,SSE2,SSE3\n",
      "    found = SSSE3,SSE41,POPCNT,SSE42,AVX,F16C,FMA3,AVX2\n",
      "    not found = AVX512F,AVX512CD,AVX512_SKX,AVX512_CLX,AVX512_CNL\n",
      "None\n"
     ]
    }
   ],
   "source": [
    "import numpy as np\n",
    "print(np.__version__)\n",
    "print(np.show_config())"
   ]
  },
  {
   "cell_type": "code",
   "execution_count": 4,
   "id": "0a4dcd1d",
   "metadata": {},
   "outputs": [
    {
     "name": "stdout",
     "output_type": "stream",
     "text": [
      "add(x1, x2, /, out=None, *, where=True, casting='same_kind', order='K', dtype=None, subok=True[, signature, extobj])\n",
      "\n",
      "Add arguments element-wise.\n",
      "\n",
      "Parameters\n",
      "----------\n",
      "x1, x2 : array_like\n",
      "    The arrays to be added.\n",
      "    If ``x1.shape != x2.shape``, they must be broadcastable to a common\n",
      "    shape (which becomes the shape of the output).\n",
      "out : ndarray, None, or tuple of ndarray and None, optional\n",
      "    A location into which the result is stored. If provided, it must have\n",
      "    a shape that the inputs broadcast to. If not provided or None,\n",
      "    a freshly-allocated array is returned. A tuple (possible only as a\n",
      "    keyword argument) must have length equal to the number of outputs.\n",
      "where : array_like, optional\n",
      "    This condition is broadcast over the input. At locations where the\n",
      "    condition is True, the `out` array will be set to the ufunc result.\n",
      "    Elsewhere, the `out` array will retain its original value.\n",
      "    Note that if an uninitialized `out` array is created via the default\n",
      "    ``out=None``, locations within it where the condition is False will\n",
      "    remain uninitialized.\n",
      "**kwargs\n",
      "    For other keyword-only arguments, see the\n",
      "    :ref:`ufunc docs <ufuncs.kwargs>`.\n",
      "\n",
      "Returns\n",
      "-------\n",
      "add : ndarray or scalar\n",
      "    The sum of `x1` and `x2`, element-wise.\n",
      "    This is a scalar if both `x1` and `x2` are scalars.\n",
      "\n",
      "Notes\n",
      "-----\n",
      "Equivalent to `x1` + `x2` in terms of array broadcasting.\n",
      "\n",
      "Examples\n",
      "--------\n",
      ">>> np.add(1.0, 4.0)\n",
      "5.0\n",
      ">>> x1 = np.arange(9.0).reshape((3, 3))\n",
      ">>> x2 = np.arange(3.0)\n",
      ">>> np.add(x1, x2)\n",
      "array([[  0.,   2.,   4.],\n",
      "       [  3.,   5.,   7.],\n",
      "       [  6.,   8.,  10.]])\n",
      "\n",
      "The ``+`` operator can be used as a shorthand for ``np.add`` on ndarrays.\n",
      "\n",
      ">>> x1 = np.arange(9.0).reshape((3, 3))\n",
      ">>> x2 = np.arange(3.0)\n",
      ">>> x1 + x2\n",
      "array([[ 0.,  2.,  4.],\n",
      "       [ 3.,  5.,  7.],\n",
      "       [ 6.,  8., 10.]])\n",
      "None\n"
     ]
    }
   ],
   "source": [
    "import numpy as np\n",
    "print(np.info(np.add))"
   ]
  },
  {
   "cell_type": "code",
   "execution_count": 12,
   "id": "3f6e875c",
   "metadata": {},
   "outputs": [
    {
     "name": "stdout",
     "output_type": "stream",
     "text": [
      "add(x1, x2, /, out=None, *, where=True, casting='same_kind', order='K', dtype=None, subok=True[, signature, extobj])\n",
      "\n",
      "Add arguments element-wise.\n",
      "\n",
      "Parameters\n",
      "----------\n",
      "x1, x2 : array_like\n",
      "    The arrays to be added.\n",
      "    If ``x1.shape != x2.shape``, they must be broadcastable to a common\n",
      "    shape (which becomes the shape of the output).\n",
      "out : ndarray, None, or tuple of ndarray and None, optional\n",
      "    A location into which the result is stored. If provided, it must have\n",
      "    a shape that the inputs broadcast to. If not provided or None,\n",
      "    a freshly-allocated array is returned. A tuple (possible only as a\n",
      "    keyword argument) must have length equal to the number of outputs.\n",
      "where : array_like, optional\n",
      "    This condition is broadcast over the input. At locations where the\n",
      "    condition is True, the `out` array will be set to the ufunc result.\n",
      "    Elsewhere, the `out` array will retain its original value.\n",
      "    Note that if an uninitialized `out` array is created via the default\n",
      "    ``out=None``, locations within it where the condition is False will\n",
      "    remain uninitialized.\n",
      "**kwargs\n",
      "    For other keyword-only arguments, see the\n",
      "    :ref:`ufunc docs <ufuncs.kwargs>`.\n",
      "\n",
      "Returns\n",
      "-------\n",
      "add : ndarray or scalar\n",
      "    The sum of `x1` and `x2`, element-wise.\n",
      "    This is a scalar if both `x1` and `x2` are scalars.\n",
      "\n",
      "Notes\n",
      "-----\n",
      "Equivalent to `x1` + `x2` in terms of array broadcasting.\n",
      "\n",
      "Examples\n",
      "--------\n",
      ">>> np.add(1.0, 4.0)\n",
      "5.0\n",
      ">>> x1 = np.arange(9.0).reshape((3, 3))\n",
      ">>> x2 = np.arange(3.0)\n",
      ">>> np.add(x1, x2)\n",
      "array([[  0.,   2.,   4.],\n",
      "       [  3.,   5.,   7.],\n",
      "       [  6.,   8.,  10.]])\n",
      "\n",
      "The ``+`` operator can be used as a shorthand for ``np.add`` on ndarrays.\n",
      "\n",
      ">>> x1 = np.arange(9.0).reshape((3, 3))\n",
      ">>> x2 = np.arange(3.0)\n",
      ">>> x1 + x2\n",
      "array([[ 0.,  2.,  4.],\n",
      "       [ 3.,  5.,  7.],\n",
      "       [ 6.,  8., 10.]])\n"
     ]
    },
    {
     "ename": "ValueError",
     "evalue": "operands could not be broadcast together with shapes (3,3) (9,) ",
     "output_type": "error",
     "traceback": [
      "\u001b[1;31m---------------------------------------------------------------------------\u001b[0m",
      "\u001b[1;31mValueError\u001b[0m                                Traceback (most recent call last)",
      "Input \u001b[1;32mIn [12]\u001b[0m, in \u001b[0;36m<cell line: 5>\u001b[1;34m()\u001b[0m\n\u001b[0;32m      3\u001b[0m x1\u001b[38;5;241m=\u001b[39mnp\u001b[38;5;241m.\u001b[39marange(\u001b[38;5;241m9\u001b[39m)\u001b[38;5;241m.\u001b[39mreshape((\u001b[38;5;241m3\u001b[39m,\u001b[38;5;241m3\u001b[39m))\n\u001b[0;32m      4\u001b[0m x2\u001b[38;5;241m=\u001b[39mnp\u001b[38;5;241m.\u001b[39marange(\u001b[38;5;241m9\u001b[39m)\n\u001b[1;32m----> 5\u001b[0m np\u001b[38;5;241m.\u001b[39madd(\u001b[43mx1\u001b[49m\u001b[38;5;241;43m+\u001b[39;49m\u001b[43mx2\u001b[49m)\n",
      "\u001b[1;31mValueError\u001b[0m: operands could not be broadcast together with shapes (3,3) (9,) "
     ]
    }
   ],
   "source": [
    "import numpy as np\n",
    "np.info(np.add)\n",
    "x1=np.arange(9).reshape((3,3))\n",
    "x2=np.arange(9)\n",
    "np.add(x1+x2)"
   ]
  },
  {
   "cell_type": "code",
   "execution_count": 16,
   "id": "e1838ffe",
   "metadata": {},
   "outputs": [
    {
     "name": "stdout",
     "output_type": "stream",
     "text": [
      "original array:\n",
      "[1 2 3 4 5]\n",
      "test if none of the element of the array is zero:\n",
      "True\n",
      "original array\n",
      "[0 1 2 0]\n",
      "None of the element in the array is zero \n",
      "False\n"
     ]
    }
   ],
   "source": [
    "#To test whether none of the elements of the given array is zero\n",
    "#true\n",
    "import numpy as np\n",
    "x=np.array([1,2,3,4,5])\n",
    "print(\"original array:\")\n",
    "print(x)\n",
    "print(\"test if none of the element of the array is zero:\")\n",
    "print(np.all(x))\n",
    "#for false\n",
    "import numpy as np\n",
    "a=np.array([0,1,2,0])\n",
    "print(\"original array\")\n",
    "print(a)\n",
    "print(\"Test None of the element in the array is zero \")\n",
    "print(np.all(a))"
   ]
  },
  {
   "cell_type": "code",
   "execution_count": 21,
   "id": "7a2296a0",
   "metadata": {},
   "outputs": [
    {
     "name": "stdout",
     "output_type": "stream",
     "text": [
      "original array\n",
      "[1 2 3 4 5]\n",
      "test if one any of the element in the array is zero\n",
      "True\n",
      "original array\n",
      "[0 0 0 0]\n",
      "test if one any of the element in the array is zero\n",
      "False\n"
     ]
    }
   ],
   "source": [
    "#To test if any of the elements of a given array is non-zero\n",
    "#any() for true\n",
    "import numpy as np\n",
    "a=np.array([1,2,3,4,5])\n",
    "print(\"original array\")\n",
    "print(a)\n",
    "print(\"test if one any of the element in the array is non-zero\")\n",
    "print(np.any(a))\n",
    "#any() for false\n",
    "import numpy as np\n",
    "a=np.array([0,0,0,0])\n",
    "print(\"original array\")\n",
    "print(a)\n",
    "print(\"test if one any of the element in the array is non-zero\")\n",
    "print(np.any(a))"
   ]
  },
  {
   "cell_type": "code",
   "execution_count": 24,
   "id": "f207d839",
   "metadata": {},
   "outputs": [
    {
     "name": "stdout",
     "output_type": "stream",
     "text": [
      "original array\n",
      "[ 0.  1.  2. inf nan]\n",
      "test given array is element-wise finiteness\n",
      "[ True  True  True False False]\n"
     ]
    }
   ],
   "source": [
    "#to test a given array element-wise finiteness(not infinity or not a number)\n",
    "import numpy as np\n",
    "a=np.array([0,1,2,np.inf,np.nan])\n",
    "print(\"original array\")\n",
    "print(a)\n",
    "print(\"test given array is element-wise finiteness\")\n",
    "print(np.isfinite(a))\n"
   ]
  },
  {
   "cell_type": "code",
   "execution_count": 33,
   "id": "113204f0",
   "metadata": {},
   "outputs": [
    {
     "name": "stdout",
     "output_type": "stream",
     "text": [
      "original array\n",
      "[ 1. nan inf]\n",
      "Test whther a number is element-wise for positive or negative or infinity\n",
      "[False False  True]\n"
     ]
    }
   ],
   "source": [
    "#test element-wise for positive or negative or infinity\n",
    "import numpy as np\n",
    "a=np.array([1,np.nan,np.inf])\n",
    "print(\"original array\")\n",
    "print(a)\n",
    "print(\"Test whther a number is element-wise for positive or negative or infinity\")\n",
    "print(np.isinf(a))"
   ]
  },
  {
   "cell_type": "code",
   "execution_count": 34,
   "id": "475383ef",
   "metadata": {},
   "outputs": [
    {
     "name": "stdout",
     "output_type": "stream",
     "text": [
      "[1, 3, -2, inf, nan]\n",
      "To test element-wise for nan of given number\n",
      "[False False False False  True]\n"
     ]
    }
   ],
   "source": [
    "#to test element-wise for NAN of a given array\n",
    "import numpy as np\n",
    "a=([1,3,-2,np.inf,np.nan])\n",
    "print(a)\n",
    "print(\"To test element-wise for nan of given number\")\n",
    "print(np.isnan(a))"
   ]
  },
  {
   "cell_type": "code",
   "execution_count": 10,
   "id": "19440832",
   "metadata": {},
   "outputs": [
    {
     "name": "stdout",
     "output_type": "stream",
     "text": [
      "original array\n",
      "[1. +2.j 9. +3.j 3.1+0.j 9.8+0.j]\n",
      "[ True  True False False]\n",
      "original array\n",
      "[1. +2.j 9. +3.j 3.1+0.j 9.8+0.j]\n",
      "[False False  True  True]\n",
      "checking scalar type\n",
      "False\n",
      "True\n"
     ]
    }
   ],
   "source": [
    "#test element-wise for complex number real number of a given array.Also test whether a given number is a scalar type or not\n",
    "import numpy as np\n",
    "a=np.array([1+2j,9+3j,3.1,9.8])\n",
    "print(\"original array\")\n",
    "print(a)\n",
    "print(np.iscomplex(a))\n",
    "print(\"original array\")\n",
    "print(a)\n",
    "print(np.isreal(a))\n",
    "print(\"checking scalar type\")\n",
    "print(np.isscalar((a)))\n",
    "print(np.isscalar((3)))"
   ]
  },
  {
   "cell_type": "code",
   "execution_count": 14,
   "id": "74158913",
   "metadata": {},
   "outputs": [
    {
     "name": "stdout",
     "output_type": "stream",
     "text": [
      "Test if two arrays are element-wise equal within a tolerance:\n",
      "False\n",
      "True\n",
      "False\n",
      "False\n",
      "True\n"
     ]
    }
   ],
   "source": [
    "#Whether two arrays are element-wise equal within a tolerance\n",
    "import numpy as np\n",
    "print(\"Test if two arrays are element-wise equal within a tolerance:\")\n",
    "print(np.allclose([1e10,1e-7],[1.00001e10,1e-8]))\n",
    "print(np.allclose([1e10,1e-8],[1.00001e10,1e-9]))\n",
    "print(np.allclose([1e10,1e-8],[1.0001e10,1e-9]))\n",
    "print(np.allclose([1.0,np.nan],[1.0,np.nan]))\n",
    "print(np.allclose([1.0,np.nan],[1.0,np.nan],equal_nan=True))"
   ]
  },
  {
   "cell_type": "code",
   "execution_count": 1,
   "id": "455b67d8",
   "metadata": {},
   "outputs": [
    {
     "name": "stdout",
     "output_type": "stream",
     "text": [
      "original array\n",
      "[3 5]\n",
      "[2 5]\n",
      "Comparison-greater\n",
      "[ True False]\n",
      "comparison-greater_equal\n",
      "[ True  True]\n",
      "comparison-less\n",
      "[False False]\n",
      "comparison-less_equal\n",
      "[False  True]\n"
     ]
    }
   ],
   "source": [
    "#Create an element-wise comparison (greater,greater_equal,less and less_equal)of two given arrays\n",
    "import numpy as np\n",
    "x=np.array([3,5])\n",
    "y=np.array([2,5])\n",
    "print(\"original array\")\n",
    "print(x)\n",
    "print(y)\n",
    "print(\"Comparison-greater\")\n",
    "print(np.greater(x,y))\n",
    "print(\"comparison-greater_equal\")\n",
    "print(np.greater_equal(x,y))\n",
    "print(\"comparison-less\")\n",
    "print(np.less(x,y))\n",
    "print(\"comparison-less_equal\")\n",
    "print(np.less_equal(x,y))"
   ]
  },
  {
   "cell_type": "code",
   "execution_count": 2,
   "id": "a37d7e4f",
   "metadata": {},
   "outputs": [
    {
     "name": "stdout",
     "output_type": "stream",
     "text": [
      "original array:\n",
      "[  10   24   65   90  190 -130  120  -10   60  100]\n",
      "[  10   24   65   90  190 -130  120  -10   60  100]\n",
      "comparison-equal:\n",
      "[ True  True  True  True  True  True  True  True  True  True]\n",
      "comparison -equal within a tolerance:\n",
      "True\n"
     ]
    }
   ],
   "source": [
    "#Bumpy program to create an element-wise comparison (equal,equal within a tolerance)of two given arrays\n",
    "import numpy as np\n",
    "a=np.array([10,24,65,90,190,-130,120,-10,60,100])\n",
    "b=np.array([10,24,65,90,190,-130,120,-10,60,100])\n",
    "print(\"original array:\")\n",
    "print(a)\n",
    "print(b)\n",
    "print(\"comparison-equal:\")\n",
    "print(np.equal(a,b))\n",
    "print(\"comparison -equal within a tolerance:\")\n",
    "print(np.allclose(a,b))"
   ]
  },
  {
   "cell_type": "code",
   "execution_count": 5,
   "id": "4333a406",
   "metadata": {},
   "outputs": [
    {
     "name": "stdout",
     "output_type": "stream",
     "text": [
      "original array\n",
      "[ 1  7 13]\n",
      "The size of the memory occupied by the array\n",
      "12 bytes\n"
     ]
    }
   ],
   "source": [
    "#create an array with the values 1,7,13,105 and determine the size of the memory occupied by the array\n",
    "import numpy as np\n",
    "a=np.array([1,7,13,105])\n",
    "print(\"original array\")\n",
    "print(a)\n",
    "print(\"The size of the memory occupied by the array\")\n",
    "print(\"%d bytes\"%(a.size *a.itemsize))"
   ]
  },
  {
   "cell_type": "code",
   "execution_count": 7,
   "id": "deaf684f",
   "metadata": {},
   "outputs": [
    {
     "name": "stdout",
     "output_type": "stream",
     "text": [
      "The array having 10 zeros\n",
      "[0. 0. 0. 0. 0. 0. 0. 0. 0. 0.]\n",
      "The array having 10 ones\n",
      "[1. 1. 1. 1. 1. 1. 1. 1. 1. 1.]\n",
      "The array having 10 fives\n",
      "[5. 5. 5. 5. 5. 5. 5. 5. 5. 5.]\n"
     ]
    }
   ],
   "source": [
    "#Create an array of 10Zeros,10ones,10fives\n",
    "import numpy as np\n",
    "a=np.zeros(10)\n",
    "print(\"The array having 10 zeros\")\n",
    "print(a)\n",
    "a=np.ones(10)\n",
    "print(\"The array having 10 ones\")\n",
    "print(a)\n",
    "a=np.ones(10)*5\n",
    "print(\"The array having 10 fives\")\n",
    "print(a)"
   ]
  },
  {
   "cell_type": "code",
   "execution_count": 9,
   "id": "0b06b018",
   "metadata": {},
   "outputs": [
    {
     "name": "stdout",
     "output_type": "stream",
     "text": [
      "The integers from 30 to 70:\n",
      "[30 31 32 33 34 35 36 37 38 39 40 41 42 43 44 45 46 47 48 49 50 51 52 53\n",
      " 54 55 56 57 58 59 60 61 62 63 64 65 66 67 68 69 70]\n"
     ]
    }
   ],
   "source": [
    "#Create an array of the integers from 30 to 70\n",
    "import numpy as np\n",
    "a=np.arange(30,71)\n",
    "print(\"The integers from 30 to 70:\")\n",
    "print(a)"
   ]
  },
  {
   "cell_type": "code",
   "execution_count": 14,
   "id": "cd6c89f7",
   "metadata": {},
   "outputs": [
    {
     "name": "stdout",
     "output_type": "stream",
     "text": [
      "The even integers from 30 to 70 are:\n",
      "[30 32 34 36 38 40 42 44 46 48 50 52 54 56 58 60 62 64 66 68 70]\n",
      "The odd numbers from 30 to 70 are:\n",
      "[31 33 35 37 39 41 43 45 47 49 51 53 55 57 59 61 63 65 67 69]\n"
     ]
    }
   ],
   "source": [
    "#Create an array of all the even integers from 30 to 70\n",
    "import numpy as np\n",
    "a=np.arange(30,71,2)\n",
    "print(\"The even integers from 30 to 70 are:\")\n",
    "print(a)\n",
    "#Create an array of all the odd integers from 30 to 70\n",
    "import numpy as np\n",
    "a=np.arange(31,71,2)\n",
    "print(\"The odd numbers from 30 to 70 are:\")\n",
    "print(a)"
   ]
  },
  {
   "cell_type": "code",
   "execution_count": 19,
   "id": "2afbd06f",
   "metadata": {},
   "outputs": [
    {
     "name": "stdout",
     "output_type": "stream",
     "text": [
      "The 3x3 identity matrix is:\n",
      "[[1. 0. 0.]\n",
      " [0. 1. 0.]\n",
      " [0. 0. 1.]]\n",
      "The 4x4 identity matrix is:\n",
      "[[1. 0. 0. 0.]\n",
      " [0. 1. 0. 0.]\n",
      " [0. 0. 1. 0.]\n",
      " [0. 0. 0. 1.]]\n"
     ]
    }
   ],
   "source": [
    "#Create a 3x3 identity matrix\n",
    "import numpy as np\n",
    "a=np.identity(3)\n",
    "print(\"The 3x3 identity matrix is:\")\n",
    "print(a)\n",
    "a=np.identity(4)\n",
    "print(\"The 4x4 identity matrix is:\")\n",
    "print(a)"
   ]
  },
  {
   "cell_type": "code",
   "execution_count": 23,
   "id": "f74b9063",
   "metadata": {},
   "outputs": [
    {
     "name": "stdout",
     "output_type": "stream",
     "text": [
      "A random number between o and 1\n",
      "[0.11150972]\n"
     ]
    }
   ],
   "source": [
    "#Generate a random number between 0 and 1\n",
    "import numpy as np\n",
    "a=np.random.normal(0,1,1)\n",
    "print(\"A random number between o and 1\")\n",
    "print(a)"
   ]
  },
  {
   "cell_type": "code",
   "execution_count": 26,
   "id": "2a9c0c51",
   "metadata": {},
   "outputs": [
    {
     "name": "stdout",
     "output_type": "stream",
     "text": [
      "15 random numbers from a standard distribution \n",
      "[ 0.02089601 -0.47297995  0.08504947 -0.30501743 -1.54480561 -0.93735489\n",
      "  0.65611776 -0.10315891 -0.74510126 -2.2778755   0.34483332 -0.27432442\n",
      "  0.46234587  0.42181262 -1.62810741]\n"
     ]
    }
   ],
   "source": [
    "#Generate an array of 15 random numbers from a standard normal distribution\n",
    "import numpy as np\n",
    "a=np.random.normal(0,1,15)\n",
    "print(\"15 random numbers from a standard distribution \")\n",
    "print(a)"
   ]
  },
  {
   "cell_type": "code",
   "execution_count": 28,
   "id": "ed179a51",
   "metadata": {},
   "outputs": [
    {
     "name": "stdout",
     "output_type": "stream",
     "text": [
      "original vector:\n",
      "[15 16 17 18 19 20 21 22 23 24 25 26 27 28 29 30 31 32 33 34 35 36 37 38\n",
      " 39 40 41 42 43 44 45 46 47 48 49 50 51 52 53 54]\n",
      "all values except the first and last:\n",
      "[16 17 18 19 20 21 22 23 24 25 26 27 28 29 30 31 32 33 34 35 36 37 38 39\n",
      " 40 41 42 43 44 45 46 47 48 49 50 51 52 53]\n"
     ]
    }
   ],
   "source": [
    "#create a vector with values ranging from 15 to 55 and print all values except the first and last\n",
    "import numpy as np\n",
    "v=np.arange(15,55)\n",
    "print(\"original vector:\")\n",
    "print(v)\n",
    "print(\"all values except the first and last:\")\n",
    "print(v[1:-1])"
   ]
  },
  {
   "cell_type": "code",
   "execution_count": 3,
   "id": "ef0fb754",
   "metadata": {},
   "outputs": [
    {
     "name": "stdout",
     "output_type": "stream",
     "text": [
      "original array\n",
      "[[10 11 12 13]\n",
      " [14 15 16 17]\n",
      " [18 19 20 21]]\n",
      "each element of the array is:\n",
      "10 11 12 13 14 15 16 17 18 19 20 21 "
     ]
    }
   ],
   "source": [
    "#create a 3x4 array using and iterate over it\n",
    "import numpy as np\n",
    "a=np.arange(10,22).reshape((3,4))\n",
    "print(\"original array\")\n",
    "print(a)\n",
    "print(\"each element of the array is:\")\n",
    "for i in np.nditer(a):\n",
    "    print(i,end=\" \")"
   ]
  },
  {
   "cell_type": "code",
   "execution_count": 2,
   "id": "9e91041f",
   "metadata": {},
   "outputs": [
    {
     "name": "stdout",
     "output_type": "stream",
     "text": [
      "[ 5. 10. 15. 20. 25. 30. 35. 40. 45. 50.]\n"
     ]
    }
   ],
   "source": [
    "#Create a vector of length 10 with values evenly distributed between 5 and 50\n",
    "import numpy as np\n",
    "v=np.linspace(5,50,10)\n",
    "print(v)"
   ]
  },
  {
   "cell_type": "code",
   "execution_count": 11,
   "id": "baa8a02d",
   "metadata": {},
   "outputs": [
    {
     "name": "stdout",
     "output_type": "stream",
     "text": [
      "original array\n",
      "[ 0  1  2  3  4  5  6  7  8  9 10 11 12 13 14 15 16 17 18 19 20]\n",
      "After changing the sign of the numbers in the range from 9 to 15\n",
      "[  0   1   2   3   4   5   6   7   8  -9 -10 -11 -12 -13 -14 -15  16  17\n",
      "  18  19  20]\n"
     ]
    }
   ],
   "source": [
    "#create a vector with values from 0 to 20 and change the sign of the numbers in the range from 9 to 15\n",
    "import numpy as np\n",
    "v=np.arange(0,21)\n",
    "print(\"original array\")\n",
    "print(v)\n",
    "print(\"After changing the sign of the numbers in the range from 9 to 15\")\n",
    "v[(v >= 9) & (v <= 15)] *= -1\n",
    "print(v)"
   ]
  },
  {
   "cell_type": "code",
   "execution_count": 18,
   "id": "491bc268",
   "metadata": {},
   "outputs": [
    {
     "name": "stdout",
     "output_type": "stream",
     "text": [
      "original array\n",
      "[100 101 102 103 104 105 106 107 108 109 110 111 112 113 114 115 116 117\n",
      " 118 119 120 121 122 123 124 125 126 127 128 129 130 131 132 133 134 135\n",
      " 136 137 138 139 140 141 142 143 144 145 146 147 148 149 150 151 152 153\n",
      " 154 155 156 157 158 159 160 161 162 163 164 165 166 167 168 169 170 171\n",
      " 172 173 174 175 176 177 178 179 180 181 182 183 184 185 186 187 188 189\n",
      " 190 191 192 193 194 195 196 197 198 199 200]\n",
      "After change the sign of the numbers in the range from 150 to 200\n",
      "[ 100  101  102  103  104  105  106  107  108  109  110  111  112  113\n",
      "  114  115  116  117  118  119  120  121  122  123  124  125  126  127\n",
      "  128  129  130  131  132  133  134  135  136  137  138  139  140  141\n",
      "  142  143  144  145  146  147  148  149 -150 -151 -152 -153 -154 -155\n",
      " -156 -157 -158 -159 -160 -161 -162 -163 -164 -165 -166 -167 -168 -169\n",
      " -170 -171 -172 -173 -174 -175 -176 -177 -178 -179 -180 -181 -182 -183\n",
      " -184 -185 -186 -187 -188 -189 -190 -191 -192 -193 -194 -195 -196 -197\n",
      " -198 -199 -200]\n"
     ]
    }
   ],
   "source": [
    "#create a vector with values from 100 to 200 and change the sign of the numbers in the range from 150 to 200\n",
    "import numpy as np\n",
    "v=np.arange(100,201)\n",
    "print(\"original array\")\n",
    "print(v)\n",
    "print(\"After change the sign of the numbers in the range from 150 to 200\")\n",
    "v[(v >= 150)&(v <= 200)] *= -1\n",
    "print(v)\n"
   ]
  },
  {
   "cell_type": "code",
   "execution_count": 28,
   "id": "7d74acea",
   "metadata": {},
   "outputs": [
    {
     "name": "stdout",
     "output_type": "stream",
     "text": [
      "Vector of length 5 filled with arbitary integers from 0 to 10\n",
      "[0 5 2 6 3]\n"
     ]
    }
   ],
   "source": [
    "#Create a vector of length 5 filled with arbitary integers from 0 to 10\n",
    "import numpy as np\n",
    "a=np.random.randint(0,11,5)\n",
    "print(\"Vector of length 5 filled with arbitary integers from 0 to 10\")\n",
    "print(a)"
   ]
  },
  {
   "cell_type": "code",
   "execution_count": 31,
   "id": "c0a9a3d5",
   "metadata": {},
   "outputs": [
    {
     "name": "stdout",
     "output_type": "stream",
     "text": [
      "Vector-1\n",
      "[7 3 9]\n",
      "Vector-2\n",
      "[8 2 5]\n",
      "Multiply the values of two given vectors\n",
      "[56  6 45]\n"
     ]
    }
   ],
   "source": [
    "#Multiply the values of two given vectors\n",
    "import numpy as np\n",
    "a=np.array([7,3,9])\n",
    "print(\"Vector-1\")\n",
    "print(a)\n",
    "b=np.array([8,2,5])\n",
    "print(\"Vector-2\")\n",
    "print(b)\n",
    "result=a*b\n",
    "print(\"Multiply the values of two given vectors\")\n",
    "print(result)"
   ]
  },
  {
   "cell_type": "code",
   "execution_count": 32,
   "id": "4b6045b5",
   "metadata": {},
   "outputs": [
    {
     "name": "stdout",
     "output_type": "stream",
     "text": [
      "The 3x4 matrix is:\n",
      "[[10 11 12 13]\n",
      " [14 15 16 17]\n",
      " [18 19 20 21]]\n"
     ]
    }
   ],
   "source": [
    "#create a 3x4 matrix filled with values from 10 to 21\n",
    "import numpy as np\n",
    "a=np.arange(10,22).reshape((3,4))\n",
    "print(\"The 3x4 matrix is:\")\n",
    "print(a)"
   ]
  },
  {
   "cell_type": "code",
   "execution_count": 35,
   "id": "616cfaee",
   "metadata": {},
   "outputs": [
    {
     "name": "stdout",
     "output_type": "stream",
     "text": [
      "[[10 11 12 13]\n",
      " [14 15 16 17]\n",
      " [18 19 20 21]]\n",
      "The number of rows and columns of a given matrix\n",
      "(3, 4)\n"
     ]
    }
   ],
   "source": [
    "#Find the number of rows and columns of a given matrix\n",
    "import numpy as np\n",
    "a=np.arange(10,22).reshape((3,4))\n",
    "print(a)\n",
    "print(\"The number of rows and columns of a given matrix\")\n",
    "print(a.shape)"
   ]
  },
  {
   "cell_type": "code",
   "execution_count": 38,
   "id": "78fa8bf5",
   "metadata": {},
   "outputs": [
    {
     "name": "stdout",
     "output_type": "stream",
     "text": [
      "the 3X3 matrix is:\n",
      "[[1. 0. 0.]\n",
      " [0. 1. 0.]\n",
      " [0. 0. 1.]]\n",
      "The 3x3 matrix is:\n",
      "[[1. 0. 0.]\n",
      " [0. 1. 0.]\n",
      " [0. 0. 1.]]\n"
     ]
    }
   ],
   "source": [
    "#3X3 identity matrix\n",
    "import numpy as np\n",
    "a=np.identity(3)\n",
    "print(\"the 3X3 matrix is:\")\n",
    "print(a)\n",
    "#Another function\n",
    "a=np.eye(3)\n",
    "print(\"The 3x3 matrix is:\")\n",
    "print(a)"
   ]
  },
  {
   "cell_type": "code",
   "execution_count": 40,
   "id": "721ca836",
   "metadata": {},
   "outputs": [
    {
     "name": "stdout",
     "output_type": "stream",
     "text": [
      "The 10x10 matrix is:\n",
      "[[1. 1. 1. 1. 1. 1. 1. 1. 1. 1.]\n",
      " [1. 0. 0. 0. 0. 0. 0. 0. 0. 1.]\n",
      " [1. 0. 0. 0. 0. 0. 0. 0. 0. 1.]\n",
      " [1. 0. 0. 0. 0. 0. 0. 0. 0. 1.]\n",
      " [1. 0. 0. 0. 0. 0. 0. 0. 0. 1.]\n",
      " [1. 0. 0. 0. 0. 0. 0. 0. 0. 1.]\n",
      " [1. 0. 0. 0. 0. 0. 0. 0. 0. 1.]\n",
      " [1. 0. 0. 0. 0. 0. 0. 0. 0. 1.]\n",
      " [1. 0. 0. 0. 0. 0. 0. 0. 0. 1.]\n",
      " [1. 1. 1. 1. 1. 1. 1. 1. 1. 1.]]\n"
     ]
    }
   ],
   "source": [
    "#create a 10x10 matrix in which the elements on the borders will be equal to 1 and inside 0\n",
    "import numpy as np\n",
    "a=np.ones((10,10))\n",
    "a[1:-1,1:-1]=0\n",
    "print(\"The 10x10 matrix is:\")\n",
    "print(a)"
   ]
  },
  {
   "cell_type": "code",
   "execution_count": 41,
   "id": "a2f54dfa",
   "metadata": {},
   "outputs": [
    {
     "name": "stdout",
     "output_type": "stream",
     "text": [
      "[[0. 0. 0. 0. 0. 0. 0. 0. 0. 0.]\n",
      " [0. 1. 1. 1. 1. 1. 1. 1. 1. 0.]\n",
      " [0. 1. 1. 1. 1. 1. 1. 1. 1. 0.]\n",
      " [0. 1. 1. 1. 1. 1. 1. 1. 1. 0.]\n",
      " [0. 1. 1. 1. 1. 1. 1. 1. 1. 0.]\n",
      " [0. 1. 1. 1. 1. 1. 1. 1. 1. 0.]\n",
      " [0. 1. 1. 1. 1. 1. 1. 1. 1. 0.]\n",
      " [0. 1. 1. 1. 1. 1. 1. 1. 1. 0.]\n",
      " [0. 1. 1. 1. 1. 1. 1. 1. 1. 0.]\n",
      " [0. 0. 0. 0. 0. 0. 0. 0. 0. 0.]]\n"
     ]
    }
   ],
   "source": [
    "#create a 10x10 matrix in which the elements on the borders will be equal to 0 and inside 1\n",
    "import numpy as np\n",
    "a=np.zeros((10,10))\n",
    "a[1:-1,1:-1]=1\n",
    "print(a)"
   ]
  },
  {
   "cell_type": "code",
   "execution_count": 44,
   "id": "87edeef7",
   "metadata": {},
   "outputs": [
    {
     "name": "stdout",
     "output_type": "stream",
     "text": [
      "[[1 0 0 0 0]\n",
      " [0 2 0 0 0]\n",
      " [0 0 3 0 0]\n",
      " [0 0 0 4 0]\n",
      " [0 0 0 0 5]]\n"
     ]
    }
   ],
   "source": [
    "#Create a 5x5 zero matrix with elemenets on the main diagonal equal to 1,2,3,4,5\n",
    "import numpy as np\n",
    "a=np.diag([1,2,3,4,5])\n",
    "print(a)"
   ]
  },
  {
   "cell_type": "code",
   "execution_count": 50,
   "id": "2308d4d3",
   "metadata": {},
   "outputs": [
    {
     "name": "stdout",
     "output_type": "stream",
     "text": [
      "[[0. 1. 0. 1.]\n",
      " [1. 0. 1. 0.]\n",
      " [0. 1. 0. 1.]\n",
      " [1. 0. 1. 0.]]\n"
     ]
    }
   ],
   "source": [
    "#Create a 4x4 matrix in which 0 and 1 are staggered,withzeros on the main diagonal\n",
    "import numpy as np\n",
    "a=np.zeros((4,4))\n",
    "a[::2,1::2]=1\n",
    "a[1::2,::2]=1\n",
    "print(a)"
   ]
  },
  {
   "cell_type": "code",
   "execution_count": 54,
   "id": "2eb5c364",
   "metadata": {},
   "outputs": [
    {
     "name": "stdout",
     "output_type": "stream",
     "text": [
      "[[[0.1744476  0.83274996 0.19470492]\n",
      "  [0.06990403 0.39503851 0.7361737 ]\n",
      "  [0.02367916 0.27405015 0.08014498]]\n",
      "\n",
      " [[0.72762068 0.39224082 0.72640946]\n",
      "  [0.70263099 0.39847439 0.5395061 ]\n",
      "  [0.02608827 0.44922765 0.59273277]]\n",
      "\n",
      " [[0.10581634 0.79965549 0.42698826]\n",
      "  [0.43871718 0.64234964 0.77001683]\n",
      "  [0.61245894 0.39572943 0.16574079]]]\n"
     ]
    }
   ],
   "source": [
    "#Create a 3x3x3 array filles with arbitary values\n",
    "import numpy as np\n",
    "a=np.random.random((3,3,3))\n",
    "print(a)"
   ]
  },
  {
   "cell_type": "code",
   "execution_count": 56,
   "id": "0d191ab8",
   "metadata": {},
   "outputs": [
    {
     "name": "stdout",
     "output_type": "stream",
     "text": [
      "original array\n",
      "[[0 1]\n",
      " [2 3]]\n",
      "Sum of all elements i a row:\n",
      "[1 5]\n",
      "Sum of all coloums:\n",
      "[2 4]\n"
     ]
    }
   ],
   "source": [
    "#To compute sum of all elements,sum of each column and sum of each row of a given array\n",
    "import numpy as np\n",
    "x=np.array([[0,1],[2,3]])\n",
    "print(\"original array\")\n",
    "print(x)\n",
    "print(\"Sum of all elements i a row:\")\n",
    "print(np.sum(x,axis=1))\n",
    "print(\"Sum of all coloums:\")\n",
    "print(np.sum(x,axis=0))"
   ]
  },
  {
   "cell_type": "code",
   "execution_count": 57,
   "id": "8af4d133",
   "metadata": {},
   "outputs": [
    {
     "name": "stdout",
     "output_type": "stream",
     "text": [
      "original array\n",
      "[3 4]\n",
      "[5 6]\n",
      "Inner product of two given vectors\n",
      "39\n"
     ]
    }
   ],
   "source": [
    "#To compute the inner product of two given vectors\n",
    "import numpy as np\n",
    "x=np.array([3,4])\n",
    "y=np.array([5,6])\n",
    "print(\"original array\")\n",
    "print(x)\n",
    "print(y)\n",
    "print(\"Inner product of two given vectors\")\n",
    "print(np.dot(x,y))"
   ]
  },
  {
   "cell_type": "code",
   "execution_count": 3,
   "id": "a27c3920",
   "metadata": {},
   "outputs": [
    {
     "name": "stdout",
     "output_type": "stream",
     "text": [
      "original vector: \n",
      "[1 2 3]\n",
      "Given matrix\n",
      "[[ 1  2  3]\n",
      " [ 4  5  6]\n",
      " [ 7  8  9]\n",
      " [10 11 12]]\n"
     ]
    },
    {
     "ename": "IndexError",
     "evalue": "too many indices for array: array is 0-dimensional, but 2 were indexed",
     "output_type": "error",
     "traceback": [
      "\u001b[1;31m---------------------------------------------------------------------------\u001b[0m",
      "\u001b[1;31mIndexError\u001b[0m                                Traceback (most recent call last)",
      "Input \u001b[1;32mIn [3]\u001b[0m, in \u001b[0;36m<cell line: 10>\u001b[1;34m()\u001b[0m\n\u001b[0;32m      9\u001b[0m result\u001b[38;5;241m=\u001b[39mnp\u001b[38;5;241m.\u001b[39mempty_like(\u001b[38;5;241m4\u001b[39m)\n\u001b[0;32m     10\u001b[0m \u001b[38;5;28;01mfor\u001b[39;00m i \u001b[38;5;129;01min\u001b[39;00m \u001b[38;5;28mrange\u001b[39m(\u001b[38;5;241m5\u001b[39m):\n\u001b[1;32m---> 11\u001b[0m     result[i,:]\u001b[38;5;241m=\u001b[39ma[i,:]\u001b[38;5;241m+\u001b[39mv\n\u001b[0;32m     12\u001b[0m     \u001b[38;5;28mprint\u001b[39m(\u001b[38;5;124m\"\u001b[39m\u001b[38;5;124mafter adding a vector to each row of a given matrix\u001b[39m\u001b[38;5;124m\"\u001b[39m)\n\u001b[0;32m     13\u001b[0m     \u001b[38;5;28mprint\u001b[39m(result)\n",
      "\u001b[1;31mIndexError\u001b[0m: too many indices for array: array is 0-dimensional, but 2 were indexed"
     ]
    }
   ],
   "source": [
    "#Add a vector to each row of a given matrix\n",
    "import numpy as np\n",
    "a=np.array([[1,2,3],[4,5,6],[7,8,9],[10,11,12]])\n",
    "v=np.array([1,2,3])\n",
    "print(\"original vector: \")\n",
    "print(v)\n",
    "print(\"Given matrix\")\n",
    "print(a)\n",
    "result=np.empty_like(4)\n",
    "for i in range(5):\n",
    "    result[i,:]=a[i,:]+v\n",
    "    print(\"after adding a vector to each row of a given matrix\")\n",
    "    print(result)\n"
   ]
  },
  {
   "cell_type": "code",
   "execution_count": 4,
   "id": "bf5ae1fe",
   "metadata": {},
   "outputs": [
    {
     "name": "stdout",
     "output_type": "stream",
     "text": [
      "March,2022\n",
      "['2022-03-01' '2022-03-02' '2022-03-03' '2022-03-04' '2022-03-05'\n",
      " '2022-03-06' '2022-03-07' '2022-03-08' '2022-03-09' '2022-03-10'\n",
      " '2022-03-11' '2022-03-12' '2022-03-13' '2022-03-14' '2022-03-15'\n",
      " '2022-03-16' '2022-03-17' '2022-03-18' '2022-03-19' '2022-03-20'\n",
      " '2022-03-21' '2022-03-22' '2022-03-23' '2022-03-24' '2022-03-25'\n",
      " '2022-03-26' '2022-03-27' '2022-03-28' '2022-03-29' '2022-03-30'\n",
      " '2022-03-31']\n"
     ]
    }
   ],
   "source": [
    "# Datetime Exercises\n",
    "import numpy as np\n",
    "print(\"March,2022\")\n",
    "print(np.arange('2022-03','2022-04',dtype='datetime64[D]'))"
   ]
  },
  {
   "cell_type": "code",
   "execution_count": 7,
   "id": "c2b213ef",
   "metadata": {},
   "outputs": [
    {
     "name": "stdout",
     "output_type": "stream",
     "text": [
      "Yesterday: 2022-06-28\n",
      "today is: 2022-06-29\n",
      "tommarow: 2022-06-30\n"
     ]
    }
   ],
   "source": [
    "# To get the dates of yesterday,today and tommarow\n",
    "import numpy as np\n",
    "yesterday=np.datetime64('today','D')-np.timedelta64(1,'D')\n",
    "print(\"Yesterday:\",yesterday)\n",
    "today=np.datetime64('today','D')\n",
    "print(\"today is:\",today)\n",
    "tommarow=np.datetime64('today','D')+np.timedelta64(1,'D')\n",
    "print(\"tommarow:\",tommarow)"
   ]
  },
  {
   "cell_type": "code",
   "execution_count": 12,
   "id": "f9caf734",
   "metadata": {},
   "outputs": [
    {
     "name": "stdout",
     "output_type": "stream",
     "text": [
      "Number of days,February,2016:\n",
      "29 days\n",
      "Number of days,February,2016:\n",
      "28 days\n",
      "Number of days,February,2016:\n",
      "28 days\n"
     ]
    }
   ],
   "source": [
    "#Count the number of days of specific month\n",
    "import numpy as np\n",
    "print(\"Number of days,February,2016:\")\n",
    "print(np.datetime64('2016-03-01')-np.datetime64('2016-02-01'))\n",
    "print(\"Number of days,February,2016:\")\n",
    "print(np.datetime64('2017-03-01')-np.datetime64('2017-02-01'))\n",
    "print(\"Number of days,February,2016:\")\n",
    "print(np.datetime64('2018-03-01')-np.datetime64('2018-02-01'))"
   ]
  },
  {
   "cell_type": "code",
   "execution_count": 24,
   "id": "dbe9cfd7",
   "metadata": {},
   "outputs": [
    {
     "name": "stdout",
     "output_type": "stream",
     "text": [
      "The first monday in may 2017 is:\n",
      "2017-05-01\n"
     ]
    }
   ],
   "source": [
    "# Find the first monday in may 2017\n",
    "import numpy as np\n",
    "print(\"The first monday in may 2017 is:\")\n",
    "print(np.busday_offset('2017-05',0,roll='forward'))"
   ]
  },
  {
   "cell_type": "code",
   "execution_count": 25,
   "id": "4738c6de",
   "metadata": {},
   "outputs": [
    {
     "name": "stdout",
     "output_type": "stream",
     "text": [
      "The last monday in june 2022 is:\n",
      "2022-07-14\n"
     ]
    }
   ],
   "source": [
    "# Finding last monday in june 2022\n",
    "import numpy as np\n",
    "print(\"The last monday in june 2022 is:\")\n",
    "print(np.busday_offset('2022-06',31,roll='forward'))"
   ]
  },
  {
   "cell_type": "code",
   "execution_count": null,
   "id": "b6e63044",
   "metadata": {},
   "outputs": [],
   "source": []
  }
 ],
 "metadata": {
  "kernelspec": {
   "display_name": "Python 3 (ipykernel)",
   "language": "python",
   "name": "python3"
  },
  "language_info": {
   "codemirror_mode": {
    "name": "ipython",
    "version": 3
   },
   "file_extension": ".py",
   "mimetype": "text/x-python",
   "name": "python",
   "nbconvert_exporter": "python",
   "pygments_lexer": "ipython3",
   "version": "3.10.4"
  }
 },
 "nbformat": 4,
 "nbformat_minor": 5
}
