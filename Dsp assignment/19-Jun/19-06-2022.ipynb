{
 "cells": [
  {
   "cell_type": "code",
   "execution_count": 8,
   "id": "49d7428f",
   "metadata": {},
   "outputs": [
    {
     "name": "stdout",
     "output_type": "stream",
     "text": [
      "   S.No     Name  Age  Salary Gender   dept\n",
      "0     1  Vandana   18   10000      f    eee\n",
      "1     2   joshna   22   90000      f    cse\n",
      "2     3    manoj   15   34000      m   mech\n",
      "3     4   kamala   45   45000      f  civil\n",
      "4     5  apparao   50   79000      m    ece\n"
     ]
    }
   ],
   "source": [
    "import pandas as pd\n",
    "df=pd.read_csv(\"emp.csv\")\n",
    "print(df)"
   ]
  },
  {
   "cell_type": "code",
   "execution_count": 9,
   "id": "e5c59115",
   "metadata": {},
   "outputs": [
    {
     "name": "stdout",
     "output_type": "stream",
     "text": [
      "<pandas.core.groupby.generic.DataFrameGroupBy object at 0x00000245F39A2710>\n"
     ]
    }
   ],
   "source": [
    "#object reference:\n",
    "print(df.groupby([\"Gender\"]))"
   ]
  },
  {
   "cell_type": "code",
   "execution_count": 11,
   "id": "9b8a71c9",
   "metadata": {},
   "outputs": [
    {
     "name": "stdout",
     "output_type": "stream",
     "text": [
      "{('f', 'civil'): [3], ('f', 'cse'): [1], ('f', 'eee'): [0], ('m', 'ece'): [4], ('m', 'mech'): [2]}\n"
     ]
    }
   ],
   "source": [
    "a=df.groupby([\"Gender\",\"dept\"])\n",
    "print(a.groups)"
   ]
  },
  {
   "cell_type": "code",
   "execution_count": 12,
   "id": "ca690a85",
   "metadata": {},
   "outputs": [
    {
     "name": "stdout",
     "output_type": "stream",
     "text": [
      "       S.No     Name  Age  Salary Gender\n",
      "dept                                    \n",
      "civil     4   kamala   45   45000      f\n",
      "cse       2   joshna   22   90000      f\n",
      "ece       5  apparao   50   79000      m\n",
      "eee       1  Vandana   18   10000      f\n",
      "mech      3    manoj   15   34000      m\n"
     ]
    }
   ],
   "source": [
    "print(df.groupby([\"dept\"]).max())"
   ]
  },
  {
   "cell_type": "code",
   "execution_count": 13,
   "id": "c847d36b",
   "metadata": {},
   "outputs": [
    {
     "name": "stdout",
     "output_type": "stream",
     "text": [
      "        S.No    Name  Age  Salary  dept\n",
      "Gender                                 \n",
      "f          4  kamala   45   90000   eee\n",
      "m          5   manoj   50   79000  mech\n"
     ]
    }
   ],
   "source": [
    "print(df.groupby([\"Gender\"]).max())"
   ]
  },
  {
   "cell_type": "code",
   "execution_count": 15,
   "id": "02d880bd",
   "metadata": {},
   "outputs": [
    {
     "name": "stdout",
     "output_type": "stream",
     "text": [
      "{'civil': [3], 'cse': [1], 'ece': [4], 'eee': [0], 'mech': [2]}\n"
     ]
    }
   ],
   "source": [
    "print(df.groupby([\"dept\"]).groups)"
   ]
  },
  {
   "cell_type": "code",
   "execution_count": 17,
   "id": "c233a95d",
   "metadata": {},
   "outputs": [
    {
     "name": "stdout",
     "output_type": "stream",
     "text": [
      "{'f': [0, 1, 3], 'm': [2, 4]}\n"
     ]
    }
   ],
   "source": [
    "print(df.groupby([\"Gender\"]).groups)"
   ]
  },
  {
   "cell_type": "code",
   "execution_count": 19,
   "id": "2747b490",
   "metadata": {},
   "outputs": [
    {
     "name": "stdout",
     "output_type": "stream",
     "text": [
      "   S.No     Name  Age  Salary Gender  dept\n",
      "2     3    manoj   15   34000      m  mech\n",
      "4     5  apparao   50   79000      m   ece\n"
     ]
    }
   ],
   "source": [
    "g=df.groupby([\"Gender\"])\n",
    "print(g.get_group('m'))"
   ]
  },
  {
   "cell_type": "code",
   "execution_count": 20,
   "id": "c6e49584",
   "metadata": {},
   "outputs": [
    {
     "data": {
      "text/plain": [
       "f    3\n",
       "m    2\n",
       "Name: Gender, dtype: int64"
      ]
     },
     "execution_count": 20,
     "metadata": {},
     "output_type": "execute_result"
    }
   ],
   "source": [
    "df[\"Gender\"].value_counts()"
   ]
  },
  {
   "cell_type": "code",
   "execution_count": null,
   "id": "1d8d83ac",
   "metadata": {},
   "outputs": [],
   "source": []
  }
 ],
 "metadata": {
  "kernelspec": {
   "display_name": "Python 3 (ipykernel)",
   "language": "python",
   "name": "python3"
  },
  "language_info": {
   "codemirror_mode": {
    "name": "ipython",
    "version": 3
   },
   "file_extension": ".py",
   "mimetype": "text/x-python",
   "name": "python",
   "nbconvert_exporter": "python",
   "pygments_lexer": "ipython3",
   "version": "3.10.4"
  }
 },
 "nbformat": 4,
 "nbformat_minor": 5
}
